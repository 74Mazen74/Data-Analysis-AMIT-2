{
 "cells": [
  {
   "cell_type": "code",
   "execution_count": 1,
   "id": "1ff882cb",
   "metadata": {},
   "outputs": [],
   "source": [
    "import numpy as np\n",
    "import pandas as pd \n",
    "from matplotlib import pyplot as plt\n",
    "import seaborn as sns"
   ]
  },
  {
   "cell_type": "code",
   "execution_count": 2,
   "id": "ad67fb8d",
   "metadata": {},
   "outputs": [
    {
     "data": {
      "text/html": [
       "<div>\n",
       "<style scoped>\n",
       "    .dataframe tbody tr th:only-of-type {\n",
       "        vertical-align: middle;\n",
       "    }\n",
       "\n",
       "    .dataframe tbody tr th {\n",
       "        vertical-align: top;\n",
       "    }\n",
       "\n",
       "    .dataframe thead th {\n",
       "        text-align: right;\n",
       "    }\n",
       "</style>\n",
       "<table border=\"1\" class=\"dataframe\">\n",
       "  <thead>\n",
       "    <tr style=\"text-align: right;\">\n",
       "      <th></th>\n",
       "      <th>show_id</th>\n",
       "      <th>type</th>\n",
       "      <th>title</th>\n",
       "      <th>director</th>\n",
       "      <th>cast</th>\n",
       "      <th>country</th>\n",
       "      <th>date_added</th>\n",
       "      <th>release_year</th>\n",
       "      <th>rating</th>\n",
       "      <th>duration</th>\n",
       "      <th>listed_in</th>\n",
       "      <th>description</th>\n",
       "    </tr>\n",
       "  </thead>\n",
       "  <tbody>\n",
       "    <tr>\n",
       "      <th>0</th>\n",
       "      <td>s1</td>\n",
       "      <td>Movie</td>\n",
       "      <td>Dick Johnson Is Dead</td>\n",
       "      <td>Kirsten Johnson</td>\n",
       "      <td>NaN</td>\n",
       "      <td>United States</td>\n",
       "      <td>September 25, 2021</td>\n",
       "      <td>2020</td>\n",
       "      <td>PG-13</td>\n",
       "      <td>90 min</td>\n",
       "      <td>Documentaries</td>\n",
       "      <td>As her father nears the end of his life, filmm...</td>\n",
       "    </tr>\n",
       "    <tr>\n",
       "      <th>1</th>\n",
       "      <td>s2</td>\n",
       "      <td>TV Show</td>\n",
       "      <td>Blood &amp; Water</td>\n",
       "      <td>NaN</td>\n",
       "      <td>Ama Qamata, Khosi Ngema, Gail Mabalane, Thaban...</td>\n",
       "      <td>South Africa</td>\n",
       "      <td>September 24, 2021</td>\n",
       "      <td>2021</td>\n",
       "      <td>TV-MA</td>\n",
       "      <td>2 Seasons</td>\n",
       "      <td>International TV Shows, TV Dramas, TV Mysteries</td>\n",
       "      <td>After crossing paths at a party, a Cape Town t...</td>\n",
       "    </tr>\n",
       "    <tr>\n",
       "      <th>2</th>\n",
       "      <td>s3</td>\n",
       "      <td>TV Show</td>\n",
       "      <td>Ganglands</td>\n",
       "      <td>Julien Leclercq</td>\n",
       "      <td>Sami Bouajila, Tracy Gotoas, Samuel Jouy, Nabi...</td>\n",
       "      <td>NaN</td>\n",
       "      <td>September 24, 2021</td>\n",
       "      <td>2021</td>\n",
       "      <td>TV-MA</td>\n",
       "      <td>1 Season</td>\n",
       "      <td>Crime TV Shows, International TV Shows, TV Act...</td>\n",
       "      <td>To protect his family from a powerful drug lor...</td>\n",
       "    </tr>\n",
       "    <tr>\n",
       "      <th>3</th>\n",
       "      <td>s4</td>\n",
       "      <td>TV Show</td>\n",
       "      <td>Jailbirds New Orleans</td>\n",
       "      <td>NaN</td>\n",
       "      <td>NaN</td>\n",
       "      <td>NaN</td>\n",
       "      <td>September 24, 2021</td>\n",
       "      <td>2021</td>\n",
       "      <td>TV-MA</td>\n",
       "      <td>1 Season</td>\n",
       "      <td>Docuseries, Reality TV</td>\n",
       "      <td>Feuds, flirtations and toilet talk go down amo...</td>\n",
       "    </tr>\n",
       "    <tr>\n",
       "      <th>4</th>\n",
       "      <td>s5</td>\n",
       "      <td>TV Show</td>\n",
       "      <td>Kota Factory</td>\n",
       "      <td>NaN</td>\n",
       "      <td>Mayur More, Jitendra Kumar, Ranjan Raj, Alam K...</td>\n",
       "      <td>India</td>\n",
       "      <td>September 24, 2021</td>\n",
       "      <td>2021</td>\n",
       "      <td>TV-MA</td>\n",
       "      <td>2 Seasons</td>\n",
       "      <td>International TV Shows, Romantic TV Shows, TV ...</td>\n",
       "      <td>In a city of coaching centers known to train I...</td>\n",
       "    </tr>\n",
       "  </tbody>\n",
       "</table>\n",
       "</div>"
      ],
      "text/plain": [
       "  show_id     type                  title         director  \\\n",
       "0      s1    Movie   Dick Johnson Is Dead  Kirsten Johnson   \n",
       "1      s2  TV Show          Blood & Water              NaN   \n",
       "2      s3  TV Show              Ganglands  Julien Leclercq   \n",
       "3      s4  TV Show  Jailbirds New Orleans              NaN   \n",
       "4      s5  TV Show           Kota Factory              NaN   \n",
       "\n",
       "                                                cast        country  \\\n",
       "0                                                NaN  United States   \n",
       "1  Ama Qamata, Khosi Ngema, Gail Mabalane, Thaban...   South Africa   \n",
       "2  Sami Bouajila, Tracy Gotoas, Samuel Jouy, Nabi...            NaN   \n",
       "3                                                NaN            NaN   \n",
       "4  Mayur More, Jitendra Kumar, Ranjan Raj, Alam K...          India   \n",
       "\n",
       "           date_added  release_year rating   duration  \\\n",
       "0  September 25, 2021          2020  PG-13     90 min   \n",
       "1  September 24, 2021          2021  TV-MA  2 Seasons   \n",
       "2  September 24, 2021          2021  TV-MA   1 Season   \n",
       "3  September 24, 2021          2021  TV-MA   1 Season   \n",
       "4  September 24, 2021          2021  TV-MA  2 Seasons   \n",
       "\n",
       "                                           listed_in  \\\n",
       "0                                      Documentaries   \n",
       "1    International TV Shows, TV Dramas, TV Mysteries   \n",
       "2  Crime TV Shows, International TV Shows, TV Act...   \n",
       "3                             Docuseries, Reality TV   \n",
       "4  International TV Shows, Romantic TV Shows, TV ...   \n",
       "\n",
       "                                         description  \n",
       "0  As her father nears the end of his life, filmm...  \n",
       "1  After crossing paths at a party, a Cape Town t...  \n",
       "2  To protect his family from a powerful drug lor...  \n",
       "3  Feuds, flirtations and toilet talk go down amo...  \n",
       "4  In a city of coaching centers known to train I...  "
      ]
     },
     "execution_count": 2,
     "metadata": {},
     "output_type": "execute_result"
    }
   ],
   "source": [
    "df=pd.read_csv('netflix_titles.csv')\n",
    "df.head()"
   ]
  },
  {
   "cell_type": "code",
   "execution_count": 3,
   "id": "09a6bc03",
   "metadata": {},
   "outputs": [
    {
     "name": "stdout",
     "output_type": "stream",
     "text": [
      "<class 'pandas.core.frame.DataFrame'>\n",
      "RangeIndex: 8807 entries, 0 to 8806\n",
      "Data columns (total 12 columns):\n",
      " #   Column        Non-Null Count  Dtype \n",
      "---  ------        --------------  ----- \n",
      " 0   show_id       8807 non-null   object\n",
      " 1   type          8807 non-null   object\n",
      " 2   title         8807 non-null   object\n",
      " 3   director      6173 non-null   object\n",
      " 4   cast          7982 non-null   object\n",
      " 5   country       7976 non-null   object\n",
      " 6   date_added    8797 non-null   object\n",
      " 7   release_year  8807 non-null   int64 \n",
      " 8   rating        8803 non-null   object\n",
      " 9   duration      8804 non-null   object\n",
      " 10  listed_in     8807 non-null   object\n",
      " 11  description   8807 non-null   object\n",
      "dtypes: int64(1), object(11)\n",
      "memory usage: 825.8+ KB\n"
     ]
    }
   ],
   "source": [
    "df.info()"
   ]
  },
  {
   "cell_type": "markdown",
   "id": "a8a18a38",
   "metadata": {},
   "source": [
    "## Handling Missing data"
   ]
  },
  {
   "cell_type": "markdown",
   "id": "59324e0b",
   "metadata": {},
   "source": [
    "#### Percentage of null values in director , cast and country are higher than others.\n",
    "#### So , replace null values in these columns with NA and others with mode"
   ]
  },
  {
   "cell_type": "code",
   "execution_count": 4,
   "id": "1d9793ba",
   "metadata": {},
   "outputs": [],
   "source": [
    "df.fillna({'director':'NA', 'cast':'NA','country':'NA'}, inplace=True)"
   ]
  },
  {
   "cell_type": "code",
   "execution_count": 5,
   "id": "9aa1a049",
   "metadata": {},
   "outputs": [],
   "source": [
    "df['date_added'].fillna(df['date_added'].mode()[0], inplace=True)"
   ]
  },
  {
   "cell_type": "code",
   "execution_count": 6,
   "id": "3b02ec82",
   "metadata": {},
   "outputs": [],
   "source": [
    "df['rating'].fillna(df['rating'].mode()[0], inplace=True)"
   ]
  },
  {
   "cell_type": "code",
   "execution_count": 7,
   "id": "60d39647",
   "metadata": {},
   "outputs": [],
   "source": [
    "df['duration'].fillna(df['duration'].mode()[0], inplace=True)"
   ]
  },
  {
   "cell_type": "code",
   "execution_count": 8,
   "id": "ef6b4f9a",
   "metadata": {},
   "outputs": [
    {
     "name": "stdout",
     "output_type": "stream",
     "text": [
      "<class 'pandas.core.frame.DataFrame'>\n",
      "RangeIndex: 8807 entries, 0 to 8806\n",
      "Data columns (total 12 columns):\n",
      " #   Column        Non-Null Count  Dtype \n",
      "---  ------        --------------  ----- \n",
      " 0   show_id       8807 non-null   object\n",
      " 1   type          8807 non-null   object\n",
      " 2   title         8807 non-null   object\n",
      " 3   director      8807 non-null   object\n",
      " 4   cast          8807 non-null   object\n",
      " 5   country       8807 non-null   object\n",
      " 6   date_added    8807 non-null   object\n",
      " 7   release_year  8807 non-null   int64 \n",
      " 8   rating        8807 non-null   object\n",
      " 9   duration      8807 non-null   object\n",
      " 10  listed_in     8807 non-null   object\n",
      " 11  description   8807 non-null   object\n",
      "dtypes: int64(1), object(11)\n",
      "memory usage: 825.8+ KB\n"
     ]
    }
   ],
   "source": [
    "df.info()"
   ]
  },
  {
   "cell_type": "code",
   "execution_count": 9,
   "id": "69f423e9",
   "metadata": {
    "scrolled": true
   },
   "outputs": [
    {
     "data": {
      "text/plain": [
       "TV-MA       3211\n",
       "TV-14       2160\n",
       "TV-PG        863\n",
       "R            799\n",
       "PG-13        490\n",
       "TV-Y7        334\n",
       "TV-Y         307\n",
       "PG           287\n",
       "TV-G         220\n",
       "NR            80\n",
       "G             41\n",
       "TV-Y7-FV       6\n",
       "NC-17          3\n",
       "UR             3\n",
       "74 min         1\n",
       "84 min         1\n",
       "66 min         1\n",
       "Name: rating, dtype: int64"
      ]
     },
     "execution_count": 9,
     "metadata": {},
     "output_type": "execute_result"
    }
   ],
   "source": [
    "df['rating'].value_counts()"
   ]
  },
  {
   "cell_type": "markdown",
   "id": "07eac8a3",
   "metadata": {},
   "source": [
    "#### Three ratings contain durations, they should be transfered to related column and replaced with mode"
   ]
  },
  {
   "cell_type": "code",
   "execution_count": 10,
   "id": "00e0cac7",
   "metadata": {},
   "outputs": [],
   "source": [
    "df.loc[df['rating'].str.contains('min'),'duration']=df.loc[df['rating'].str.contains('min'),'rating']\n",
    "df.loc[df.rating.str.contains('min'), 'rating'] = df.rating.mode()[0]"
   ]
  },
  {
   "cell_type": "code",
   "execution_count": 11,
   "id": "fc9ffef9",
   "metadata": {},
   "outputs": [
    {
     "data": {
      "text/plain": [
       "TV-MA       3214\n",
       "TV-14       2160\n",
       "TV-PG        863\n",
       "R            799\n",
       "PG-13        490\n",
       "TV-Y7        334\n",
       "TV-Y         307\n",
       "PG           287\n",
       "TV-G         220\n",
       "NR            80\n",
       "G             41\n",
       "TV-Y7-FV       6\n",
       "NC-17          3\n",
       "UR             3\n",
       "Name: rating, dtype: int64"
      ]
     },
     "execution_count": 11,
     "metadata": {},
     "output_type": "execute_result"
    }
   ],
   "source": [
    "df['rating'].value_counts()"
   ]
  },
  {
   "cell_type": "markdown",
   "id": "81da195f",
   "metadata": {},
   "source": [
    "## Lets add columns for day month and year"
   ]
  },
  {
   "cell_type": "code",
   "execution_count": 12,
   "id": "de5c1a39",
   "metadata": {},
   "outputs": [],
   "source": [
    "df.date_added = pd.to_datetime(df.date_added)\n",
    "df['year_added'] = df.date_added.dt.year\n",
    "df['month_added'] = df.date_added.dt.month_name()\n",
    "df['day_added'] = df.date_added.dt.day_name()"
   ]
  },
  {
   "cell_type": "code",
   "execution_count": 13,
   "id": "f95d5b59",
   "metadata": {},
   "outputs": [
    {
     "data": {
      "text/html": [
       "<div>\n",
       "<style scoped>\n",
       "    .dataframe tbody tr th:only-of-type {\n",
       "        vertical-align: middle;\n",
       "    }\n",
       "\n",
       "    .dataframe tbody tr th {\n",
       "        vertical-align: top;\n",
       "    }\n",
       "\n",
       "    .dataframe thead th {\n",
       "        text-align: right;\n",
       "    }\n",
       "</style>\n",
       "<table border=\"1\" class=\"dataframe\">\n",
       "  <thead>\n",
       "    <tr style=\"text-align: right;\">\n",
       "      <th></th>\n",
       "      <th>show_id</th>\n",
       "      <th>type</th>\n",
       "      <th>title</th>\n",
       "      <th>director</th>\n",
       "      <th>cast</th>\n",
       "      <th>country</th>\n",
       "      <th>date_added</th>\n",
       "      <th>release_year</th>\n",
       "      <th>rating</th>\n",
       "      <th>duration</th>\n",
       "      <th>listed_in</th>\n",
       "      <th>description</th>\n",
       "      <th>year_added</th>\n",
       "      <th>month_added</th>\n",
       "      <th>day_added</th>\n",
       "    </tr>\n",
       "  </thead>\n",
       "  <tbody>\n",
       "    <tr>\n",
       "      <th>0</th>\n",
       "      <td>s1</td>\n",
       "      <td>Movie</td>\n",
       "      <td>Dick Johnson Is Dead</td>\n",
       "      <td>Kirsten Johnson</td>\n",
       "      <td>NA</td>\n",
       "      <td>United States</td>\n",
       "      <td>2021-09-25</td>\n",
       "      <td>2020</td>\n",
       "      <td>PG-13</td>\n",
       "      <td>90 min</td>\n",
       "      <td>Documentaries</td>\n",
       "      <td>As her father nears the end of his life, filmm...</td>\n",
       "      <td>2021</td>\n",
       "      <td>September</td>\n",
       "      <td>Saturday</td>\n",
       "    </tr>\n",
       "    <tr>\n",
       "      <th>1</th>\n",
       "      <td>s2</td>\n",
       "      <td>TV Show</td>\n",
       "      <td>Blood &amp; Water</td>\n",
       "      <td>NA</td>\n",
       "      <td>Ama Qamata, Khosi Ngema, Gail Mabalane, Thaban...</td>\n",
       "      <td>South Africa</td>\n",
       "      <td>2021-09-24</td>\n",
       "      <td>2021</td>\n",
       "      <td>TV-MA</td>\n",
       "      <td>2 Seasons</td>\n",
       "      <td>International TV Shows, TV Dramas, TV Mysteries</td>\n",
       "      <td>After crossing paths at a party, a Cape Town t...</td>\n",
       "      <td>2021</td>\n",
       "      <td>September</td>\n",
       "      <td>Friday</td>\n",
       "    </tr>\n",
       "    <tr>\n",
       "      <th>2</th>\n",
       "      <td>s3</td>\n",
       "      <td>TV Show</td>\n",
       "      <td>Ganglands</td>\n",
       "      <td>Julien Leclercq</td>\n",
       "      <td>Sami Bouajila, Tracy Gotoas, Samuel Jouy, Nabi...</td>\n",
       "      <td>NA</td>\n",
       "      <td>2021-09-24</td>\n",
       "      <td>2021</td>\n",
       "      <td>TV-MA</td>\n",
       "      <td>1 Season</td>\n",
       "      <td>Crime TV Shows, International TV Shows, TV Act...</td>\n",
       "      <td>To protect his family from a powerful drug lor...</td>\n",
       "      <td>2021</td>\n",
       "      <td>September</td>\n",
       "      <td>Friday</td>\n",
       "    </tr>\n",
       "    <tr>\n",
       "      <th>3</th>\n",
       "      <td>s4</td>\n",
       "      <td>TV Show</td>\n",
       "      <td>Jailbirds New Orleans</td>\n",
       "      <td>NA</td>\n",
       "      <td>NA</td>\n",
       "      <td>NA</td>\n",
       "      <td>2021-09-24</td>\n",
       "      <td>2021</td>\n",
       "      <td>TV-MA</td>\n",
       "      <td>1 Season</td>\n",
       "      <td>Docuseries, Reality TV</td>\n",
       "      <td>Feuds, flirtations and toilet talk go down amo...</td>\n",
       "      <td>2021</td>\n",
       "      <td>September</td>\n",
       "      <td>Friday</td>\n",
       "    </tr>\n",
       "    <tr>\n",
       "      <th>4</th>\n",
       "      <td>s5</td>\n",
       "      <td>TV Show</td>\n",
       "      <td>Kota Factory</td>\n",
       "      <td>NA</td>\n",
       "      <td>Mayur More, Jitendra Kumar, Ranjan Raj, Alam K...</td>\n",
       "      <td>India</td>\n",
       "      <td>2021-09-24</td>\n",
       "      <td>2021</td>\n",
       "      <td>TV-MA</td>\n",
       "      <td>2 Seasons</td>\n",
       "      <td>International TV Shows, Romantic TV Shows, TV ...</td>\n",
       "      <td>In a city of coaching centers known to train I...</td>\n",
       "      <td>2021</td>\n",
       "      <td>September</td>\n",
       "      <td>Friday</td>\n",
       "    </tr>\n",
       "  </tbody>\n",
       "</table>\n",
       "</div>"
      ],
      "text/plain": [
       "  show_id     type                  title         director  \\\n",
       "0      s1    Movie   Dick Johnson Is Dead  Kirsten Johnson   \n",
       "1      s2  TV Show          Blood & Water               NA   \n",
       "2      s3  TV Show              Ganglands  Julien Leclercq   \n",
       "3      s4  TV Show  Jailbirds New Orleans               NA   \n",
       "4      s5  TV Show           Kota Factory               NA   \n",
       "\n",
       "                                                cast        country  \\\n",
       "0                                                 NA  United States   \n",
       "1  Ama Qamata, Khosi Ngema, Gail Mabalane, Thaban...   South Africa   \n",
       "2  Sami Bouajila, Tracy Gotoas, Samuel Jouy, Nabi...             NA   \n",
       "3                                                 NA             NA   \n",
       "4  Mayur More, Jitendra Kumar, Ranjan Raj, Alam K...          India   \n",
       "\n",
       "  date_added  release_year rating   duration  \\\n",
       "0 2021-09-25          2020  PG-13     90 min   \n",
       "1 2021-09-24          2021  TV-MA  2 Seasons   \n",
       "2 2021-09-24          2021  TV-MA   1 Season   \n",
       "3 2021-09-24          2021  TV-MA   1 Season   \n",
       "4 2021-09-24          2021  TV-MA  2 Seasons   \n",
       "\n",
       "                                           listed_in  \\\n",
       "0                                      Documentaries   \n",
       "1    International TV Shows, TV Dramas, TV Mysteries   \n",
       "2  Crime TV Shows, International TV Shows, TV Act...   \n",
       "3                             Docuseries, Reality TV   \n",
       "4  International TV Shows, Romantic TV Shows, TV ...   \n",
       "\n",
       "                                         description  year_added month_added  \\\n",
       "0  As her father nears the end of his life, filmm...        2021   September   \n",
       "1  After crossing paths at a party, a Cape Town t...        2021   September   \n",
       "2  To protect his family from a powerful drug lor...        2021   September   \n",
       "3  Feuds, flirtations and toilet talk go down amo...        2021   September   \n",
       "4  In a city of coaching centers known to train I...        2021   September   \n",
       "\n",
       "  day_added  \n",
       "0  Saturday  \n",
       "1    Friday  \n",
       "2    Friday  \n",
       "3    Friday  \n",
       "4    Friday  "
      ]
     },
     "execution_count": 13,
     "metadata": {},
     "output_type": "execute_result"
    }
   ],
   "source": [
    "df.head()"
   ]
  },
  {
   "cell_type": "markdown",
   "id": "4f2f14f7",
   "metadata": {},
   "source": [
    "# Cleaning end , let's start analysis and visualization"
   ]
  },
  {
   "cell_type": "markdown",
   "id": "5688cb07",
   "metadata": {},
   "source": [
    "## Ratio of movies to TV  shows"
   ]
  },
  {
   "cell_type": "code",
   "execution_count": 14,
   "id": "b826b1e7",
   "metadata": {},
   "outputs": [
    {
     "name": "stderr",
     "output_type": "stream",
     "text": [
      "C:\\Users\\mazen\\anaconda3\\lib\\site-packages\\seaborn\\_decorators.py:36: FutureWarning: Pass the following variable as a keyword arg: x. From version 0.12, the only valid positional argument will be `data`, and passing other arguments without an explicit keyword will result in an error or misinterpretation.\n",
      "  warnings.warn(\n"
     ]
    },
    {
     "data": {
      "text/plain": [
       "<AxesSubplot:xlabel='type', ylabel='count'>"
      ]
     },
     "execution_count": 14,
     "metadata": {},
     "output_type": "execute_result"
    },
    {
     "data": {
      "image/png": "[encoded data removed]",
      "text/plain": [
       "<Figure size 432x288 with 1 Axes>"
      ]
     },
     "metadata": {
      "needs_background": "light"
     },
     "output_type": "display_data"
    }
   ],
   "source": [
    "sns.countplot(df['type'])"
   ]
  },
  {
   "cell_type": "markdown",
   "id": "a991d033",
   "metadata": {},
   "source": [
    "## Movies much more than TV shows"
   ]
  },
  {
   "cell_type": "markdown",
   "id": "055b7327",
   "metadata": {},
   "source": [
    "## Question 2 : What tv shows released after 2019"
   ]
  },
  {
   "cell_type": "code",
   "execution_count": 15,
   "id": "137fbf37",
   "metadata": {},
   "outputs": [
    {
     "data": {
      "text/plain": [
       "1                                   Blood & Water\n",
       "2                                       Ganglands\n",
       "3                           Jailbirds New Orleans\n",
       "4                                    Kota Factory\n",
       "5                                   Midnight Mass\n",
       "                          ...                    \n",
       "8125                                  Super Wings\n",
       "8132    Surviving R. Kelly Part II: The Reckoning\n",
       "8173                                    Thackeray\n",
       "8376                         The Kindness Diaries\n",
       "8437                       The Netflix Afterparty\n",
       "Name: title, Length: 1148, dtype: object"
      ]
     },
     "execution_count": 15,
     "metadata": {},
     "output_type": "execute_result"
    }
   ],
   "source": [
    "df2=df[df['type']=='TV Show']\n",
    "df3=df2[df2['release_year']>=2019]\n",
    "df3['title']"
   ]
  },
  {
   "cell_type": "markdown",
   "id": "a23ea952",
   "metadata": {},
   "source": [
    "## Question 3 : Movies or shows which have Robert De Niro in cast"
   ]
  },
  {
   "cell_type": "code",
   "execution_count": 94,
   "id": "17763b52",
   "metadata": {},
   "outputs": [
    {
     "data": {
      "text/html": [
       "<div>\n",
       "<style scoped>\n",
       "    .dataframe tbody tr th:only-of-type {\n",
       "        vertical-align: middle;\n",
       "    }\n",
       "\n",
       "    .dataframe tbody tr th {\n",
       "        vertical-align: top;\n",
       "    }\n",
       "\n",
       "    .dataframe thead th {\n",
       "        text-align: right;\n",
       "    }\n",
       "</style>\n",
       "<table border=\"1\" class=\"dataframe\">\n",
       "  <thead>\n",
       "    <tr style=\"text-align: right;\">\n",
       "      <th></th>\n",
       "      <th>show_id</th>\n",
       "      <th>type</th>\n",
       "      <th>title</th>\n",
       "      <th>director</th>\n",
       "      <th>cast</th>\n",
       "      <th>country</th>\n",
       "      <th>date_added</th>\n",
       "      <th>release_year</th>\n",
       "      <th>rating</th>\n",
       "      <th>duration</th>\n",
       "      <th>listed_in</th>\n",
       "      <th>description</th>\n",
       "      <th>year_added</th>\n",
       "      <th>month_added</th>\n",
       "      <th>day_added</th>\n",
       "      <th>genere</th>\n",
       "    </tr>\n",
       "  </thead>\n",
       "  <tbody>\n",
       "    <tr>\n",
       "      <th>166</th>\n",
       "      <td>s167</td>\n",
       "      <td>Movie</td>\n",
       "      <td>Once Upon a Time in America</td>\n",
       "      <td>Sergio Leone</td>\n",
       "      <td>Robert De Niro, James Woods, Elizabeth McGover...</td>\n",
       "      <td>Italy, United States</td>\n",
       "      <td>2021-09-01</td>\n",
       "      <td>1984</td>\n",
       "      <td>R</td>\n",
       "      <td>229 min</td>\n",
       "      <td>Classic Movies, Dramas</td>\n",
       "      <td>Director Sergio Leone's sprawling crime epic f...</td>\n",
       "      <td>2021</td>\n",
       "      <td>September</td>\n",
       "      <td>Wednesday</td>\n",
       "      <td>Classic Movies</td>\n",
       "    </tr>\n",
       "    <tr>\n",
       "      <th>579</th>\n",
       "      <td>s580</td>\n",
       "      <td>Movie</td>\n",
       "      <td>Midnight Run</td>\n",
       "      <td>Martin Brest</td>\n",
       "      <td>Robert De Niro, Charles Grodin, Yaphet Kotto, ...</td>\n",
       "      <td>United States</td>\n",
       "      <td>2021-07-01</td>\n",
       "      <td>1988</td>\n",
       "      <td>R</td>\n",
       "      <td>126 min</td>\n",
       "      <td>Action &amp; Adventure, Classic Movies, Comedies</td>\n",
       "      <td>A cop-turned-bounty hunter runs into trouble a...</td>\n",
       "      <td>2021</td>\n",
       "      <td>July</td>\n",
       "      <td>Thursday</td>\n",
       "      <td>Action &amp; Adventure</td>\n",
       "    </tr>\n",
       "    <tr>\n",
       "      <th>702</th>\n",
       "      <td>s703</td>\n",
       "      <td>Movie</td>\n",
       "      <td>Silver Linings Playbook</td>\n",
       "      <td>David O. Russell</td>\n",
       "      <td>Bradley Cooper, Jennifer Lawrence, Robert De N...</td>\n",
       "      <td>United States</td>\n",
       "      <td>2021-06-17</td>\n",
       "      <td>2012</td>\n",
       "      <td>R</td>\n",
       "      <td>122 min</td>\n",
       "      <td>Comedies, Dramas, Independent Movies</td>\n",
       "      <td>A man with bipolar disorder moves home with hi...</td>\n",
       "      <td>2021</td>\n",
       "      <td>June</td>\n",
       "      <td>Thursday</td>\n",
       "      <td>Comedies</td>\n",
       "    </tr>\n",
       "    <tr>\n",
       "      <th>2314</th>\n",
       "      <td>s2315</td>\n",
       "      <td>Movie</td>\n",
       "      <td>Stardust</td>\n",
       "      <td>Matthew Vaughn</td>\n",
       "      <td>Claire Danes, Michelle Pfeiffer, Robert De Nir...</td>\n",
       "      <td>United Kingdom, United States</td>\n",
       "      <td>2020-07-01</td>\n",
       "      <td>2007</td>\n",
       "      <td>PG-13</td>\n",
       "      <td>128 min</td>\n",
       "      <td>Action &amp; Adventure, International Movies, Roma...</td>\n",
       "      <td>To win his true love's heart, wide-eyed Trista...</td>\n",
       "      <td>2020</td>\n",
       "      <td>July</td>\n",
       "      <td>Wednesday</td>\n",
       "      <td>Action &amp; Adventure</td>\n",
       "    </tr>\n",
       "    <tr>\n",
       "      <th>3181</th>\n",
       "      <td>s3182</td>\n",
       "      <td>Movie</td>\n",
       "      <td>The Irishman: In Conversation</td>\n",
       "      <td>NA</td>\n",
       "      <td>Martin Scorsese, Robert De Niro, Al Pacino, Jo...</td>\n",
       "      <td>United States</td>\n",
       "      <td>2019-12-05</td>\n",
       "      <td>2019</td>\n",
       "      <td>TV-MA</td>\n",
       "      <td>24 min</td>\n",
       "      <td>Documentaries</td>\n",
       "      <td>Join director Martin Scorsese as he sits down ...</td>\n",
       "      <td>2019</td>\n",
       "      <td>December</td>\n",
       "      <td>Thursday</td>\n",
       "      <td>Documentaries</td>\n",
       "    </tr>\n",
       "    <tr>\n",
       "      <th>3227</th>\n",
       "      <td>s3228</td>\n",
       "      <td>Movie</td>\n",
       "      <td>The Irishman</td>\n",
       "      <td>Martin Scorsese</td>\n",
       "      <td>Robert De Niro, Al Pacino, Joe Pesci, Harvey K...</td>\n",
       "      <td>United States</td>\n",
       "      <td>2019-11-27</td>\n",
       "      <td>2019</td>\n",
       "      <td>R</td>\n",
       "      <td>209 min</td>\n",
       "      <td>Dramas</td>\n",
       "      <td>Hit man Frank Sheeran looks back at the secret...</td>\n",
       "      <td>2019</td>\n",
       "      <td>November</td>\n",
       "      <td>Wednesday</td>\n",
       "      <td>Dramas</td>\n",
       "    </tr>\n",
       "    <tr>\n",
       "      <th>6880</th>\n",
       "      <td>s6881</td>\n",
       "      <td>Movie</td>\n",
       "      <td>GoodFellas</td>\n",
       "      <td>Martin Scorsese</td>\n",
       "      <td>Robert De Niro, Ray Liotta, Joe Pesci, Lorrain...</td>\n",
       "      <td>United States</td>\n",
       "      <td>2021-01-01</td>\n",
       "      <td>1990</td>\n",
       "      <td>R</td>\n",
       "      <td>145 min</td>\n",
       "      <td>Classic Movies, Dramas</td>\n",
       "      <td>Former mobster Henry Hill recounts his colorfu...</td>\n",
       "      <td>2021</td>\n",
       "      <td>January</td>\n",
       "      <td>Friday</td>\n",
       "      <td>Classic Movies</td>\n",
       "    </tr>\n",
       "    <tr>\n",
       "      <th>7113</th>\n",
       "      <td>s7114</td>\n",
       "      <td>Movie</td>\n",
       "      <td>Jackie Brown</td>\n",
       "      <td>Quentin Tarantino</td>\n",
       "      <td>Pam Grier, Samuel L. Jackson, Robert Forster, ...</td>\n",
       "      <td>United States</td>\n",
       "      <td>2019-08-01</td>\n",
       "      <td>1997</td>\n",
       "      <td>R</td>\n",
       "      <td>154 min</td>\n",
       "      <td>Dramas, Thrillers</td>\n",
       "      <td>When an aging flight attendant's caught smuggl...</td>\n",
       "      <td>2019</td>\n",
       "      <td>August</td>\n",
       "      <td>Thursday</td>\n",
       "      <td>Dramas</td>\n",
       "    </tr>\n",
       "    <tr>\n",
       "      <th>7431</th>\n",
       "      <td>s7432</td>\n",
       "      <td>Movie</td>\n",
       "      <td>Mean Streets</td>\n",
       "      <td>Martin Scorsese</td>\n",
       "      <td>Robert De Niro, Harvey Keitel, David Proval, A...</td>\n",
       "      <td>United States</td>\n",
       "      <td>2019-07-01</td>\n",
       "      <td>1973</td>\n",
       "      <td>R</td>\n",
       "      <td>112 min</td>\n",
       "      <td>Classic Movies, Dramas, Independent Movies</td>\n",
       "      <td>In New York's Little Italy, a low-level hoodlu...</td>\n",
       "      <td>2019</td>\n",
       "      <td>July</td>\n",
       "      <td>Monday</td>\n",
       "      <td>Classic Movies</td>\n",
       "    </tr>\n",
       "    <tr>\n",
       "      <th>7820</th>\n",
       "      <td>s7821</td>\n",
       "      <td>Movie</td>\n",
       "      <td>Raging Bull</td>\n",
       "      <td>Martin Scorsese</td>\n",
       "      <td>Robert De Niro, Cathy Moriarty, Joe Pesci, Fra...</td>\n",
       "      <td>United States</td>\n",
       "      <td>2019-10-01</td>\n",
       "      <td>1980</td>\n",
       "      <td>R</td>\n",
       "      <td>129 min</td>\n",
       "      <td>Classic Movies, Dramas, Sports Movies</td>\n",
       "      <td>This gritty biopic of brutal boxer Jake LaMott...</td>\n",
       "      <td>2019</td>\n",
       "      <td>October</td>\n",
       "      <td>Tuesday</td>\n",
       "      <td>Classic Movies</td>\n",
       "    </tr>\n",
       "    <tr>\n",
       "      <th>7868</th>\n",
       "      <td>s7869</td>\n",
       "      <td>Movie</td>\n",
       "      <td>Righteous Kill</td>\n",
       "      <td>Jon Avnet</td>\n",
       "      <td>Robert De Niro, Al Pacino, 50 Cent, Carla Gugi...</td>\n",
       "      <td>United States</td>\n",
       "      <td>2019-06-01</td>\n",
       "      <td>2008</td>\n",
       "      <td>R</td>\n",
       "      <td>101 min</td>\n",
       "      <td>Dramas, Thrillers</td>\n",
       "      <td>Two detectives investigate a rash of vigilante...</td>\n",
       "      <td>2019</td>\n",
       "      <td>June</td>\n",
       "      <td>Saturday</td>\n",
       "      <td>Dramas</td>\n",
       "    </tr>\n",
       "    <tr>\n",
       "      <th>8498</th>\n",
       "      <td>s8499</td>\n",
       "      <td>Movie</td>\n",
       "      <td>The Score</td>\n",
       "      <td>Frank Oz</td>\n",
       "      <td>Robert De Niro, Edward Norton, Marlon Brando, ...</td>\n",
       "      <td>Germany, Canada, United States</td>\n",
       "      <td>2019-11-28</td>\n",
       "      <td>2001</td>\n",
       "      <td>R</td>\n",
       "      <td>124 min</td>\n",
       "      <td>Dramas, Thrillers</td>\n",
       "      <td>Ready-to-retire safecracker Nick, flamboyant f...</td>\n",
       "      <td>2019</td>\n",
       "      <td>November</td>\n",
       "      <td>Thursday</td>\n",
       "      <td>Dramas</td>\n",
       "    </tr>\n",
       "  </tbody>\n",
       "</table>\n",
       "</div>"
      ],
      "text/plain": [
       "     show_id   type                          title           director  \\\n",
       "166     s167  Movie    Once Upon a Time in America       Sergio Leone   \n",
       "579     s580  Movie                   Midnight Run       Martin Brest   \n",
       "702     s703  Movie        Silver Linings Playbook   David O. Russell   \n",
       "2314   s2315  Movie                       Stardust     Matthew Vaughn   \n",
       "3181   s3182  Movie  The Irishman: In Conversation                 NA   \n",
       "3227   s3228  Movie                   The Irishman    Martin Scorsese   \n",
       "6880   s6881  Movie                     GoodFellas    Martin Scorsese   \n",
       "7113   s7114  Movie                   Jackie Brown  Quentin Tarantino   \n",
       "7431   s7432  Movie                   Mean Streets    Martin Scorsese   \n",
       "7820   s7821  Movie                    Raging Bull    Martin Scorsese   \n",
       "7868   s7869  Movie                 Righteous Kill          Jon Avnet   \n",
       "8498   s8499  Movie                      The Score           Frank Oz   \n",
       "\n",
       "                                                   cast  \\\n",
       "166   Robert De Niro, James Woods, Elizabeth McGover...   \n",
       "579   Robert De Niro, Charles Grodin, Yaphet Kotto, ...   \n",
       "702   Bradley Cooper, Jennifer Lawrence, Robert De N...   \n",
       "2314  Claire Danes, Michelle Pfeiffer, Robert De Nir...   \n",
       "3181  Martin Scorsese, Robert De Niro, Al Pacino, Jo...   \n",
       "3227  Robert De Niro, Al Pacino, Joe Pesci, Harvey K...   \n",
       "6880  Robert De Niro, Ray Liotta, Joe Pesci, Lorrain...   \n",
       "7113  Pam Grier, Samuel L. Jackson, Robert Forster, ...   \n",
       "7431  Robert De Niro, Harvey Keitel, David Proval, A...   \n",
       "7820  Robert De Niro, Cathy Moriarty, Joe Pesci, Fra...   \n",
       "7868  Robert De Niro, Al Pacino, 50 Cent, Carla Gugi...   \n",
       "8498  Robert De Niro, Edward Norton, Marlon Brando, ...   \n",
       "\n",
       "                             country date_added  release_year rating duration  \\\n",
       "166             Italy, United States 2021-09-01          1984      R  229 min   \n",
       "579                    United States 2021-07-01          1988      R  126 min   \n",
       "702                    United States 2021-06-17          2012      R  122 min   \n",
       "2314   United Kingdom, United States 2020-07-01          2007  PG-13  128 min   \n",
       "3181                   United States 2019-12-05          2019  TV-MA   24 min   \n",
       "3227                   United States 2019-11-27          2019      R  209 min   \n",
       "6880                   United States 2021-01-01          1990      R  145 min   \n",
       "7113                   United States 2019-08-01          1997      R  154 min   \n",
       "7431                   United States 2019-07-01          1973      R  112 min   \n",
       "7820                   United States 2019-10-01          1980      R  129 min   \n",
       "7868                   United States 2019-06-01          2008      R  101 min   \n",
       "8498  Germany, Canada, United States 2019-11-28          2001      R  124 min   \n",
       "\n",
       "                                              listed_in  \\\n",
       "166                              Classic Movies, Dramas   \n",
       "579        Action & Adventure, Classic Movies, Comedies   \n",
       "702                Comedies, Dramas, Independent Movies   \n",
       "2314  Action & Adventure, International Movies, Roma...   \n",
       "3181                                      Documentaries   \n",
       "3227                                             Dramas   \n",
       "6880                             Classic Movies, Dramas   \n",
       "7113                                  Dramas, Thrillers   \n",
       "7431         Classic Movies, Dramas, Independent Movies   \n",
       "7820              Classic Movies, Dramas, Sports Movies   \n",
       "7868                                  Dramas, Thrillers   \n",
       "8498                                  Dramas, Thrillers   \n",
       "\n",
       "                                            description  year_added  \\\n",
       "166   Director Sergio Leone's sprawling crime epic f...        2021   \n",
       "579   A cop-turned-bounty hunter runs into trouble a...        2021   \n",
       "702   A man with bipolar disorder moves home with hi...        2021   \n",
       "2314  To win his true love's heart, wide-eyed Trista...        2020   \n",
       "3181  Join director Martin Scorsese as he sits down ...        2019   \n",
       "3227  Hit man Frank Sheeran looks back at the secret...        2019   \n",
       "6880  Former mobster Henry Hill recounts his colorfu...        2021   \n",
       "7113  When an aging flight attendant's caught smuggl...        2019   \n",
       "7431  In New York's Little Italy, a low-level hoodlu...        2019   \n",
       "7820  This gritty biopic of brutal boxer Jake LaMott...        2019   \n",
       "7868  Two detectives investigate a rash of vigilante...        2019   \n",
       "8498  Ready-to-retire safecracker Nick, flamboyant f...        2019   \n",
       "\n",
       "     month_added  day_added              genere  \n",
       "166    September  Wednesday      Classic Movies  \n",
       "579         July   Thursday  Action & Adventure  \n",
       "702         June   Thursday            Comedies  \n",
       "2314        July  Wednesday  Action & Adventure  \n",
       "3181    December   Thursday       Documentaries  \n",
       "3227    November  Wednesday              Dramas  \n",
       "6880     January     Friday      Classic Movies  \n",
       "7113      August   Thursday              Dramas  \n",
       "7431        July     Monday      Classic Movies  \n",
       "7820     October    Tuesday      Classic Movies  \n",
       "7868        June   Saturday              Dramas  \n",
       "8498    November   Thursday              Dramas  "
      ]
     },
     "execution_count": 94,
     "metadata": {},
     "output_type": "execute_result"
    }
   ],
   "source": [
    "df[df['cast'].str.contains('Robert De Niro')]"
   ]
  },
  {
   "cell_type": "code",
   "execution_count": 17,
   "id": "213a8234",
   "metadata": {},
   "outputs": [
    {
     "name": "stdout",
     "output_type": "stream",
     "text": [
      "<class 'pandas.core.frame.DataFrame'>\n",
      "RangeIndex: 8807 entries, 0 to 8806\n",
      "Data columns (total 15 columns):\n",
      " #   Column        Non-Null Count  Dtype         \n",
      "---  ------        --------------  -----         \n",
      " 0   show_id       8807 non-null   object        \n",
      " 1   type          8807 non-null   object        \n",
      " 2   title         8807 non-null   object        \n",
      " 3   director      8807 non-null   object        \n",
      " 4   cast          8807 non-null   object        \n",
      " 5   country       8807 non-null   object        \n",
      " 6   date_added    8807 non-null   datetime64[ns]\n",
      " 7   release_year  8807 non-null   int64         \n",
      " 8   rating        8807 non-null   object        \n",
      " 9   duration      8807 non-null   object        \n",
      " 10  listed_in     8807 non-null   object        \n",
      " 11  description   8807 non-null   object        \n",
      " 12  year_added    8807 non-null   int64         \n",
      " 13  month_added   8807 non-null   object        \n",
      " 14  day_added     8807 non-null   object        \n",
      "dtypes: datetime64[ns](1), int64(2), object(12)\n",
      "memory usage: 1.0+ MB\n"
     ]
    }
   ],
   "source": [
    "df.info()\n",
    "#df.groupby('year_added')['type'].value_counts().reset_index()\n",
    "#sns.kdeplot(x ='year_added',y ='type',hue='type', data= df, shade= False).set(xlabel = 'Age', title= 'Distribution of age')"
   ]
  },
  {
   "cell_type": "markdown",
   "id": "2dc5be9f",
   "metadata": {},
   "source": [
    "## Question 4: which country has most contribution?"
   ]
  },
  {
   "cell_type": "code",
   "execution_count": 85,
   "id": "3bf6be8a",
   "metadata": {},
   "outputs": [
    {
     "name": "stderr",
     "output_type": "stream",
     "text": [
      "C:\\Users\\mazen\\anaconda3\\lib\\site-packages\\seaborn\\_decorators.py:36: FutureWarning: Pass the following variables as keyword args: x, y. From version 0.12, the only valid positional argument will be `data`, and passing other arguments without an explicit keyword will result in an error or misinterpretation.\n",
      "  warnings.warn(\n"
     ]
    },
    {
     "data": {
      "text/plain": [
       "(array([ 0,  1,  2,  3,  4,  5,  6,  7,  8,  9, 10]),\n",
       " [Text(0, 0, 'United States'),\n",
       "  Text(1, 0, 'India'),\n",
       "  Text(2, 0, 'NA'),\n",
       "  Text(3, 0, 'United Kingdom'),\n",
       "  Text(4, 0, 'Japan'),\n",
       "  Text(5, 0, 'South Korea'),\n",
       "  Text(6, 0, 'Canada'),\n",
       "  Text(7, 0, 'Spain'),\n",
       "  Text(8, 0, 'France'),\n",
       "  Text(9, 0, 'Mexico'),\n",
       "  Text(10, 0, 'Egypt')])"
      ]
     },
     "execution_count": 85,
     "metadata": {},
     "output_type": "execute_result"
    },
    {
     "data": {
      "image/png": "[encoded data removed]",
      "text/plain": [
       "<Figure size 432x288 with 1 Axes>"
      ]
     },
     "metadata": {
      "needs_background": "light"
     },
     "output_type": "display_data"
    }
   ],
   "source": [
    "p=df['country'].value_counts()[:11]\n",
    "sns.barplot(p.index,p)\n",
    "plt.xticks(rotation= 90)"
   ]
  },
  {
   "cell_type": "markdown",
   "id": "2e7a54fc",
   "metadata": {},
   "source": [
    "##  Question 5: Which country has most contribution in TV shows in 2019"
   ]
  },
  {
   "cell_type": "code",
   "execution_count": 63,
   "id": "d557394e",
   "metadata": {},
   "outputs": [
    {
     "name": "stderr",
     "output_type": "stream",
     "text": [
      "C:\\Users\\mazen\\anaconda3\\lib\\site-packages\\seaborn\\_decorators.py:36: FutureWarning: Pass the following variables as keyword args: x, y. From version 0.12, the only valid positional argument will be `data`, and passing other arguments without an explicit keyword will result in an error or misinterpretation.\n",
      "  warnings.warn(\n"
     ]
    },
    {
     "data": {
      "text/plain": [
       "(array([ 0,  1,  2,  3,  4,  5,  6,  7,  8,  9, 10]),\n",
       " [Text(0, 0, 'United States'),\n",
       "  Text(1, 0, 'NA'),\n",
       "  Text(2, 0, 'South Korea'),\n",
       "  Text(3, 0, 'United Kingdom'),\n",
       "  Text(4, 0, 'Japan'),\n",
       "  Text(5, 0, 'India'),\n",
       "  Text(6, 0, 'China'),\n",
       "  Text(7, 0, 'France'),\n",
       "  Text(8, 0, 'Spain'),\n",
       "  Text(9, 0, 'Mexico'),\n",
       "  Text(10, 0, 'Australia')])"
      ]
     },
     "execution_count": 63,
     "metadata": {},
     "output_type": "execute_result"
    },
    {
     "data": {
      "image/png": "[encoded data removed]",
      "text/plain": [
       "<Figure size 432x288 with 1 Axes>"
      ]
     },
     "metadata": {
      "needs_background": "light"
     },
     "output_type": "display_data"
    }
   ],
   "source": [
    "df2=df[['type','country','release_year']]\n",
    "df3=df2[(df2['type']=='TV Show') & (df2['release_year']==2019)]\n",
    "p2=df3['country'].value_counts()[:11]\n",
    "sns.barplot(p2.index,p2)\n",
    "plt.xticks(rotation= 90)"
   ]
  },
  {
   "cell_type": "markdown",
   "id": "70bc0c5d",
   "metadata": {},
   "source": [
    "## Question 6 : Amount of content added each year"
   ]
  },
  {
   "cell_type": "code",
   "execution_count": 66,
   "id": "06a86c1d",
   "metadata": {},
   "outputs": [
    {
     "data": {
      "text/plain": [
       "<AxesSubplot:xlabel='year_added'>"
      ]
     },
     "execution_count": 66,
     "metadata": {},
     "output_type": "execute_result"
    },
    {
     "data": {
      "image/png": "[encoded data removed]",
      "text/plain": [
       "<Figure size 432x288 with 1 Axes>"
      ]
     },
     "metadata": {
      "needs_background": "light"
     },
     "output_type": "display_data"
    }
   ],
   "source": [
    "ddf=df[['year_added','title']].groupby('year_added').count()\n",
    "ddf=ddf.rename(columns={'title': 'Amount of Content Added'})\n",
    "ddf.plot()"
   ]
  },
  {
   "cell_type": "markdown",
   "id": "358db50e",
   "metadata": {},
   "source": [
    "#### 2019 was rich of content"
   ]
  },
  {
   "cell_type": "markdown",
   "id": "9bc38ed9",
   "metadata": {},
   "source": [
    "## Question 7 : What is the top genere?"
   ]
  },
  {
   "cell_type": "code",
   "execution_count": 68,
   "id": "8d5e7eb2",
   "metadata": {},
   "outputs": [
    {
     "data": {
      "text/html": [
       "<div>\n",
       "<style scoped>\n",
       "    .dataframe tbody tr th:only-of-type {\n",
       "        vertical-align: middle;\n",
       "    }\n",
       "\n",
       "    .dataframe tbody tr th {\n",
       "        vertical-align: top;\n",
       "    }\n",
       "\n",
       "    .dataframe thead th {\n",
       "        text-align: right;\n",
       "    }\n",
       "</style>\n",
       "<table border=\"1\" class=\"dataframe\">\n",
       "  <thead>\n",
       "    <tr style=\"text-align: right;\">\n",
       "      <th></th>\n",
       "      <th>show_id</th>\n",
       "      <th>type</th>\n",
       "      <th>title</th>\n",
       "      <th>director</th>\n",
       "      <th>cast</th>\n",
       "      <th>country</th>\n",
       "      <th>date_added</th>\n",
       "      <th>release_year</th>\n",
       "      <th>rating</th>\n",
       "      <th>duration</th>\n",
       "      <th>listed_in</th>\n",
       "      <th>description</th>\n",
       "      <th>year_added</th>\n",
       "      <th>month_added</th>\n",
       "      <th>day_added</th>\n",
       "      <th>genere</th>\n",
       "    </tr>\n",
       "  </thead>\n",
       "  <tbody>\n",
       "    <tr>\n",
       "      <th>0</th>\n",
       "      <td>s1</td>\n",
       "      <td>Movie</td>\n",
       "      <td>Dick Johnson Is Dead</td>\n",
       "      <td>Kirsten Johnson</td>\n",
       "      <td>NA</td>\n",
       "      <td>United States</td>\n",
       "      <td>2021-09-25</td>\n",
       "      <td>2020</td>\n",
       "      <td>PG-13</td>\n",
       "      <td>90 min</td>\n",
       "      <td>Documentaries</td>\n",
       "      <td>As her father nears the end of his life, filmm...</td>\n",
       "      <td>2021</td>\n",
       "      <td>September</td>\n",
       "      <td>Saturday</td>\n",
       "      <td>Documentaries</td>\n",
       "    </tr>\n",
       "    <tr>\n",
       "      <th>1</th>\n",
       "      <td>s2</td>\n",
       "      <td>TV Show</td>\n",
       "      <td>Blood &amp; Water</td>\n",
       "      <td>NA</td>\n",
       "      <td>Ama Qamata, Khosi Ngema, Gail Mabalane, Thaban...</td>\n",
       "      <td>South Africa</td>\n",
       "      <td>2021-09-24</td>\n",
       "      <td>2021</td>\n",
       "      <td>TV-MA</td>\n",
       "      <td>2 Seasons</td>\n",
       "      <td>International TV Shows, TV Dramas, TV Mysteries</td>\n",
       "      <td>After crossing paths at a party, a Cape Town t...</td>\n",
       "      <td>2021</td>\n",
       "      <td>September</td>\n",
       "      <td>Friday</td>\n",
       "      <td>International TV Shows</td>\n",
       "    </tr>\n",
       "    <tr>\n",
       "      <th>2</th>\n",
       "      <td>s3</td>\n",
       "      <td>TV Show</td>\n",
       "      <td>Ganglands</td>\n",
       "      <td>Julien Leclercq</td>\n",
       "      <td>Sami Bouajila, Tracy Gotoas, Samuel Jouy, Nabi...</td>\n",
       "      <td>NA</td>\n",
       "      <td>2021-09-24</td>\n",
       "      <td>2021</td>\n",
       "      <td>TV-MA</td>\n",
       "      <td>1 Season</td>\n",
       "      <td>Crime TV Shows, International TV Shows, TV Act...</td>\n",
       "      <td>To protect his family from a powerful drug lor...</td>\n",
       "      <td>2021</td>\n",
       "      <td>September</td>\n",
       "      <td>Friday</td>\n",
       "      <td>Crime TV Shows</td>\n",
       "    </tr>\n",
       "    <tr>\n",
       "      <th>3</th>\n",
       "      <td>s4</td>\n",
       "      <td>TV Show</td>\n",
       "      <td>Jailbirds New Orleans</td>\n",
       "      <td>NA</td>\n",
       "      <td>NA</td>\n",
       "      <td>NA</td>\n",
       "      <td>2021-09-24</td>\n",
       "      <td>2021</td>\n",
       "      <td>TV-MA</td>\n",
       "      <td>1 Season</td>\n",
       "      <td>Docuseries, Reality TV</td>\n",
       "      <td>Feuds, flirtations and toilet talk go down amo...</td>\n",
       "      <td>2021</td>\n",
       "      <td>September</td>\n",
       "      <td>Friday</td>\n",
       "      <td>Docuseries</td>\n",
       "    </tr>\n",
       "    <tr>\n",
       "      <th>4</th>\n",
       "      <td>s5</td>\n",
       "      <td>TV Show</td>\n",
       "      <td>Kota Factory</td>\n",
       "      <td>NA</td>\n",
       "      <td>Mayur More, Jitendra Kumar, Ranjan Raj, Alam K...</td>\n",
       "      <td>India</td>\n",
       "      <td>2021-09-24</td>\n",
       "      <td>2021</td>\n",
       "      <td>TV-MA</td>\n",
       "      <td>2 Seasons</td>\n",
       "      <td>International TV Shows, Romantic TV Shows, TV ...</td>\n",
       "      <td>In a city of coaching centers known to train I...</td>\n",
       "      <td>2021</td>\n",
       "      <td>September</td>\n",
       "      <td>Friday</td>\n",
       "      <td>International TV Shows</td>\n",
       "    </tr>\n",
       "  </tbody>\n",
       "</table>\n",
       "</div>"
      ],
      "text/plain": [
       "  show_id     type                  title         director  \\\n",
       "0      s1    Movie   Dick Johnson Is Dead  Kirsten Johnson   \n",
       "1      s2  TV Show          Blood & Water               NA   \n",
       "2      s3  TV Show              Ganglands  Julien Leclercq   \n",
       "3      s4  TV Show  Jailbirds New Orleans               NA   \n",
       "4      s5  TV Show           Kota Factory               NA   \n",
       "\n",
       "                                                cast        country  \\\n",
       "0                                                 NA  United States   \n",
       "1  Ama Qamata, Khosi Ngema, Gail Mabalane, Thaban...   South Africa   \n",
       "2  Sami Bouajila, Tracy Gotoas, Samuel Jouy, Nabi...             NA   \n",
       "3                                                 NA             NA   \n",
       "4  Mayur More, Jitendra Kumar, Ranjan Raj, Alam K...          India   \n",
       "\n",
       "  date_added  release_year rating   duration  \\\n",
       "0 2021-09-25          2020  PG-13     90 min   \n",
       "1 2021-09-24          2021  TV-MA  2 Seasons   \n",
       "2 2021-09-24          2021  TV-MA   1 Season   \n",
       "3 2021-09-24          2021  TV-MA   1 Season   \n",
       "4 2021-09-24          2021  TV-MA  2 Seasons   \n",
       "\n",
       "                                           listed_in  \\\n",
       "0                                      Documentaries   \n",
       "1    International TV Shows, TV Dramas, TV Mysteries   \n",
       "2  Crime TV Shows, International TV Shows, TV Act...   \n",
       "3                             Docuseries, Reality TV   \n",
       "4  International TV Shows, Romantic TV Shows, TV ...   \n",
       "\n",
       "                                         description  year_added month_added  \\\n",
       "0  As her father nears the end of his life, filmm...        2021   September   \n",
       "1  After crossing paths at a party, a Cape Town t...        2021   September   \n",
       "2  To protect his family from a powerful drug lor...        2021   September   \n",
       "3  Feuds, flirtations and toilet talk go down amo...        2021   September   \n",
       "4  In a city of coaching centers known to train I...        2021   September   \n",
       "\n",
       "  day_added                  genere  \n",
       "0  Saturday           Documentaries  \n",
       "1    Friday  International TV Shows  \n",
       "2    Friday          Crime TV Shows  \n",
       "3    Friday              Docuseries  \n",
       "4    Friday  International TV Shows  "
      ]
     },
     "execution_count": 68,
     "metadata": {},
     "output_type": "execute_result"
    }
   ],
   "source": [
    "#First , add genere column\n",
    "df['genere'] = df['listed_in'].map(lambda x: x.split(',')[0])\n",
    "df.head()"
   ]
  },
  {
   "cell_type": "markdown",
   "id": "676068e9",
   "metadata": {},
   "source": [
    "### 1- Top genere for TV shows"
   ]
  },
  {
   "cell_type": "code",
   "execution_count": 87,
   "id": "93e8b20f",
   "metadata": {},
   "outputs": [
    {
     "name": "stderr",
     "output_type": "stream",
     "text": [
      "C:\\Users\\mazen\\anaconda3\\lib\\site-packages\\seaborn\\_decorators.py:36: FutureWarning: Pass the following variables as keyword args: x, y. From version 0.12, the only valid positional argument will be `data`, and passing other arguments without an explicit keyword will result in an error or misinterpretation.\n",
      "  warnings.warn(\n"
     ]
    },
    {
     "data": {
      "text/plain": [
       "(array([ 0,  1,  2,  3,  4,  5,  6,  7,  8,  9, 10, 11, 12, 13, 14, 15, 16]),\n",
       " [Text(0, 0, 'International TV Shows'),\n",
       "  Text(1, 0, 'Crime TV Shows'),\n",
       "  Text(2, 0, \"Kids' TV\"),\n",
       "  Text(3, 0, 'British TV Shows'),\n",
       "  Text(4, 0, 'Docuseries'),\n",
       "  Text(5, 0, 'Anime Series'),\n",
       "  Text(6, 0, 'TV Comedies'),\n",
       "  Text(7, 0, 'Reality TV'),\n",
       "  Text(8, 0, 'TV Dramas'),\n",
       "  Text(9, 0, 'TV Action & Adventure'),\n",
       "  Text(10, 0, 'Stand-Up Comedy & Talk Shows'),\n",
       "  Text(11, 0, 'Romantic TV Shows'),\n",
       "  Text(12, 0, 'Classic & Cult TV'),\n",
       "  Text(13, 0, 'TV Shows'),\n",
       "  Text(14, 0, 'TV Horror'),\n",
       "  Text(15, 0, 'Spanish-Language TV Shows'),\n",
       "  Text(16, 0, 'TV Sci-Fi & Fantasy')])"
      ]
     },
     "execution_count": 87,
     "metadata": {},
     "output_type": "execute_result"
    },
    {
     "data": {
      "image/png": "[encoded data removed]",
      "text/plain": [
       "<Figure size 432x288 with 1 Axes>"
      ]
     },
     "metadata": {
      "needs_background": "light"
     },
     "output_type": "display_data"
    }
   ],
   "source": [
    "tvShows=df[df['type']=='TV Show']\n",
    "p3=tvShows['genere'].value_counts()\n",
    "sns.barplot(p3.index,p3)\n",
    "plt.xticks(rotation= 90)"
   ]
  },
  {
   "cell_type": "markdown",
   "id": "28d22d78",
   "metadata": {},
   "source": [
    "### 2- Top Movies"
   ]
  },
  {
   "cell_type": "code",
   "execution_count": 89,
   "id": "18628959",
   "metadata": {},
   "outputs": [
    {
     "name": "stderr",
     "output_type": "stream",
     "text": [
      "C:\\Users\\mazen\\anaconda3\\lib\\site-packages\\seaborn\\_decorators.py:36: FutureWarning: Pass the following variables as keyword args: x, y. From version 0.12, the only valid positional argument will be `data`, and passing other arguments without an explicit keyword will result in an error or misinterpretation.\n",
      "  warnings.warn(\n"
     ]
    },
    {
     "data": {
      "text/plain": [
       "(array([ 0,  1,  2,  3,  4,  5,  6,  7,  8,  9, 10, 11, 12, 13, 14, 15, 16,\n",
       "        17, 18]),\n",
       " [Text(0, 0, 'Dramas'),\n",
       "  Text(1, 0, 'Comedies'),\n",
       "  Text(2, 0, 'Action & Adventure'),\n",
       "  Text(3, 0, 'Documentaries'),\n",
       "  Text(4, 0, 'Children & Family Movies'),\n",
       "  Text(5, 0, 'Stand-Up Comedy'),\n",
       "  Text(6, 0, 'Horror Movies'),\n",
       "  Text(7, 0, 'International Movies'),\n",
       "  Text(8, 0, 'Classic Movies'),\n",
       "  Text(9, 0, 'Thrillers'),\n",
       "  Text(10, 0, 'Movies'),\n",
       "  Text(11, 0, 'Anime Features'),\n",
       "  Text(12, 0, 'Independent Movies'),\n",
       "  Text(13, 0, 'Music & Musicals'),\n",
       "  Text(14, 0, 'Sci-Fi & Fantasy'),\n",
       "  Text(15, 0, 'Cult Movies'),\n",
       "  Text(16, 0, 'Romantic Movies'),\n",
       "  Text(17, 0, 'LGBTQ Movies'),\n",
       "  Text(18, 0, 'Sports Movies')])"
      ]
     },
     "execution_count": 89,
     "metadata": {},
     "output_type": "execute_result"
    },
    {
     "data": {
      "image/png": "[encoded data removed]",
      "text/plain": [
       "<Figure size 432x288 with 1 Axes>"
      ]
     },
     "metadata": {
      "needs_background": "light"
     },
     "output_type": "display_data"
    }
   ],
   "source": [
    "movieShows=df[df['type']=='Movie']\n",
    "p4=movieShows['genere'].value_counts()\n",
    "sns.barplot(p4.index,p4)\n",
    "plt.xticks(rotation= 90)"
   ]
  },
  {
   "cell_type": "code",
   "execution_count": null,
   "id": "ad027df9",
   "metadata": {},
   "outputs": [],
   "source": []
  }
 ],
 "metadata": {
  "kernelspec": {
   "display_name": "Python 3 (ipykernel)",
   "language": "python",
   "name": "python3"
  },
  "language_info": {
   "codemirror_mode": {
    "name": "ipython",
    "version": 3
   },
   "file_extension": ".py",
   "mimetype": "text/x-python",
   "name": "python",
   "nbconvert_exporter": "python",
   "pygments_lexer": "ipython3",
   "version": "3.9.12"
  }
 },
 "nbformat": 4,
 "nbformat_minor": 5
}
